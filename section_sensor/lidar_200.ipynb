{
 "cells": [
  {
   "cell_type": "code",
   "execution_count": 2,
   "metadata": {},
   "outputs": [
    {
     "data": {
      "text/html": [
       "<div>\n",
       "<style scoped>\n",
       "    .dataframe tbody tr th:only-of-type {\n",
       "        vertical-align: middle;\n",
       "    }\n",
       "\n",
       "    .dataframe tbody tr th {\n",
       "        vertical-align: top;\n",
       "    }\n",
       "\n",
       "    .dataframe thead th {\n",
       "        text-align: right;\n",
       "    }\n",
       "</style>\n",
       "<table border=\"1\" class=\"dataframe\">\n",
       "  <thead>\n",
       "    <tr style=\"text-align: right;\">\n",
       "      <th></th>\n",
       "      <th>date</th>\n",
       "      <th>time</th>\n",
       "      <th>ir</th>\n",
       "      <th>lidar</th>\n",
       "    </tr>\n",
       "  </thead>\n",
       "  <tbody>\n",
       "    <tr>\n",
       "      <th>0</th>\n",
       "      <td>20180122</td>\n",
       "      <td>95819</td>\n",
       "      <td>305</td>\n",
       "      <td>214</td>\n",
       "    </tr>\n",
       "    <tr>\n",
       "      <th>1</th>\n",
       "      <td>20180122</td>\n",
       "      <td>95822</td>\n",
       "      <td>299</td>\n",
       "      <td>211</td>\n",
       "    </tr>\n",
       "    <tr>\n",
       "      <th>2</th>\n",
       "      <td>20180122</td>\n",
       "      <td>95826</td>\n",
       "      <td>292</td>\n",
       "      <td>199</td>\n",
       "    </tr>\n",
       "    <tr>\n",
       "      <th>3</th>\n",
       "      <td>20180122</td>\n",
       "      <td>95829</td>\n",
       "      <td>321</td>\n",
       "      <td>208</td>\n",
       "    </tr>\n",
       "    <tr>\n",
       "      <th>4</th>\n",
       "      <td>20180122</td>\n",
       "      <td>95832</td>\n",
       "      <td>298</td>\n",
       "      <td>212</td>\n",
       "    </tr>\n",
       "    <tr>\n",
       "      <th>...</th>\n",
       "      <td>...</td>\n",
       "      <td>...</td>\n",
       "      <td>...</td>\n",
       "      <td>...</td>\n",
       "    </tr>\n",
       "    <tr>\n",
       "      <th>58983</th>\n",
       "      <td>20180124</td>\n",
       "      <td>120023</td>\n",
       "      <td>313</td>\n",
       "      <td>208</td>\n",
       "    </tr>\n",
       "    <tr>\n",
       "      <th>58984</th>\n",
       "      <td>20180124</td>\n",
       "      <td>120026</td>\n",
       "      <td>297</td>\n",
       "      <td>200</td>\n",
       "    </tr>\n",
       "    <tr>\n",
       "      <th>58985</th>\n",
       "      <td>20180124</td>\n",
       "      <td>120030</td>\n",
       "      <td>323</td>\n",
       "      <td>204</td>\n",
       "    </tr>\n",
       "    <tr>\n",
       "      <th>58986</th>\n",
       "      <td>20180124</td>\n",
       "      <td>120033</td>\n",
       "      <td>326</td>\n",
       "      <td>207</td>\n",
       "    </tr>\n",
       "    <tr>\n",
       "      <th>58987</th>\n",
       "      <td>20180124</td>\n",
       "      <td>120036</td>\n",
       "      <td>321</td>\n",
       "      <td>208</td>\n",
       "    </tr>\n",
       "  </tbody>\n",
       "</table>\n",
       "<p>58988 rows × 4 columns</p>\n",
       "</div>"
      ],
      "text/plain": [
       "           date    time   ir  lidar\n",
       "0      20180122   95819  305    214\n",
       "1      20180122   95822  299    211\n",
       "2      20180122   95826  292    199\n",
       "3      20180122   95829  321    208\n",
       "4      20180122   95832  298    212\n",
       "...         ...     ...  ...    ...\n",
       "58983  20180124  120023  313    208\n",
       "58984  20180124  120026  297    200\n",
       "58985  20180124  120030  323    204\n",
       "58986  20180124  120033  326    207\n",
       "58987  20180124  120036  321    208\n",
       "\n",
       "[58988 rows x 4 columns]"
      ]
     },
     "execution_count": 2,
     "metadata": {},
     "output_type": "execute_result"
    }
   ],
   "source": [
    "import pandas as pd\n",
    "\n",
    "data = pd.read_csv(\n",
    "    \"sensor_data_200.txt\",\n",
    "    delimiter=\" \",\n",
    "    header=None,\n",
    "    names=(\"date\", \"time\", \"ir\", \"lidar\"),\n",
    ")\n",
    "data"
   ]
  },
  {
   "cell_type": "code",
   "execution_count": 3,
   "metadata": {},
   "outputs": [
    {
     "name": "stdout",
     "output_type": "stream",
     "text": [
      "0    214\n",
      "1    211\n",
      "2    199\n",
      "3    208\n",
      "4    212\n",
      "Name: lidar, dtype: int64\n"
     ]
    }
   ],
   "source": [
    "print(data[\"lidar\"][0:5])"
   ]
  },
  {
   "cell_type": "code",
   "execution_count": 4,
   "metadata": {},
   "outputs": [
    {
     "data": {
      "image/png": "[encoded data removed]",
      "text/plain": [
       "<Figure size 640x480 with 1 Axes>"
      ]
     },
     "metadata": {},
     "output_type": "display_data"
    }
   ],
   "source": [
    "import matplotlib.pyplot as plt\n",
    "\n",
    "data[\"lidar\"].hist(bins=max(data[\"lidar\"]) - min(data[\"lidar\"]), align=\"left\")\n",
    "plt.show()"
   ]
  },
  {
   "cell_type": "code",
   "execution_count": 6,
   "metadata": {},
   "outputs": [
    {
     "name": "stdout",
     "output_type": "stream",
     "text": [
      "209.73713297619855\n"
     ]
    }
   ],
   "source": [
    "mean = data[\"lidar\"].mean()\n",
    "print(mean)"
   ]
  },
  {
   "cell_type": "code",
   "execution_count": 12,
   "metadata": {},
   "outputs": [
    {
     "data": {
      "image/png": "[encoded data removed]",
      "text/plain": [
       "<Figure size 640x480 with 1 Axes>"
      ]
     },
     "metadata": {},
     "output_type": "display_data"
    }
   ],
   "source": [
    "data[\"lidar\"].hist(\n",
    "    bins=max(data[\"lidar\"]) - min(data[\"lidar\"]), color=\"orange\", align=\"left\"\n",
    ")\n",
    "plt.vlines(mean, ymin=0, ymax=5000, colors=\"red\")\n",
    "plt.show()"
   ]
  },
  {
   "cell_type": "code",
   "execution_count": 14,
   "metadata": {},
   "outputs": [
    {
     "name": "stdout",
     "output_type": "stream",
     "text": [
      "23.4077097702742 23.408106598554504\n"
     ]
    }
   ],
   "source": [
    "# 分散\n",
    "pandas_sampling_var = data[\"lidar\"].var(ddof=False)\n",
    "pandas_default_var = data[\"lidar\"].var()\n",
    "\n",
    "print(pandas_sampling_var, pandas_default_var)"
   ]
  },
  {
   "cell_type": "code",
   "execution_count": 15,
   "metadata": {},
   "outputs": [
    {
     "name": "stdout",
     "output_type": "stream",
     "text": [
      "4.838192492920729\n"
     ]
    }
   ],
   "source": [
    "# 標準偏差\n",
    "pandas_stddev = data[\"lidar\"].std()\n",
    "\n",
    "print(pandas_stddev)"
   ]
  },
  {
   "cell_type": "markdown",
   "metadata": {},
   "source": [
    "### 2.2.4 確率分布\n"
   ]
  },
  {
   "cell_type": "code",
   "execution_count": 16,
   "metadata": {},
   "outputs": [
    {
     "data": {
      "text/html": [
       "<div>\n",
       "<style scoped>\n",
       "    .dataframe tbody tr th:only-of-type {\n",
       "        vertical-align: middle;\n",
       "    }\n",
       "\n",
       "    .dataframe tbody tr th {\n",
       "        vertical-align: top;\n",
       "    }\n",
       "\n",
       "    .dataframe thead th {\n",
       "        text-align: right;\n",
       "    }\n",
       "</style>\n",
       "<table border=\"1\" class=\"dataframe\">\n",
       "  <thead>\n",
       "    <tr style=\"text-align: right;\">\n",
       "      <th></th>\n",
       "      <th>211</th>\n",
       "      <th>210</th>\n",
       "      <th>208</th>\n",
       "      <th>209</th>\n",
       "      <th>212</th>\n",
       "      <th>207</th>\n",
       "      <th>213</th>\n",
       "      <th>206</th>\n",
       "      <th>214</th>\n",
       "      <th>205</th>\n",
       "      <th>...</th>\n",
       "      <th>197</th>\n",
       "      <th>196</th>\n",
       "      <th>223</th>\n",
       "      <th>224</th>\n",
       "      <th>226</th>\n",
       "      <th>195</th>\n",
       "      <th>194</th>\n",
       "      <th>193</th>\n",
       "      <th>227</th>\n",
       "      <th>229</th>\n",
       "    </tr>\n",
       "  </thead>\n",
       "  <tbody>\n",
       "    <tr>\n",
       "      <th>lidar</th>\n",
       "      <td>4409</td>\n",
       "      <td>4355</td>\n",
       "      <td>4261</td>\n",
       "      <td>4228</td>\n",
       "      <td>4201</td>\n",
       "      <td>3920</td>\n",
       "      <td>3897</td>\n",
       "      <td>3674</td>\n",
       "      <td>3572</td>\n",
       "      <td>3225</td>\n",
       "      <td>...</td>\n",
       "      <td>84</td>\n",
       "      <td>59</td>\n",
       "      <td>55</td>\n",
       "      <td>32</td>\n",
       "      <td>15</td>\n",
       "      <td>13</td>\n",
       "      <td>10</td>\n",
       "      <td>4</td>\n",
       "      <td>3</td>\n",
       "      <td>1</td>\n",
       "    </tr>\n",
       "  </tbody>\n",
       "</table>\n",
       "<p>1 rows × 35 columns</p>\n",
       "</div>"
      ],
      "text/plain": [
       "        211   210   208   209   212   207   213   206   214   205  ...  197  \\\n",
       "lidar  4409  4355  4261  4228  4201  3920  3897  3674  3572  3225  ...   84   \n",
       "\n",
       "       196  223  224  226  195  194  193  227  229  \n",
       "lidar   59   55   32   15   13   10    4    3    1  \n",
       "\n",
       "[1 rows x 35 columns]"
      ]
     },
     "execution_count": 16,
     "metadata": {},
     "output_type": "execute_result"
    }
   ],
   "source": [
    "freqs = pd.DataFrame(data[\"lidar\"].value_counts())\n",
    "freqs.transpose()"
   ]
  },
  {
   "cell_type": "code",
   "execution_count": 18,
   "metadata": {},
   "outputs": [
    {
     "data": {
      "text/html": [
       "<div>\n",
       "<style scoped>\n",
       "    .dataframe tbody tr th:only-of-type {\n",
       "        vertical-align: middle;\n",
       "    }\n",
       "\n",
       "    .dataframe tbody tr th {\n",
       "        vertical-align: top;\n",
       "    }\n",
       "\n",
       "    .dataframe thead th {\n",
       "        text-align: right;\n",
       "    }\n",
       "</style>\n",
       "<table border=\"1\" class=\"dataframe\">\n",
       "  <thead>\n",
       "    <tr style=\"text-align: right;\">\n",
       "      <th></th>\n",
       "      <th>211</th>\n",
       "      <th>210</th>\n",
       "      <th>208</th>\n",
       "      <th>209</th>\n",
       "      <th>212</th>\n",
       "      <th>207</th>\n",
       "      <th>213</th>\n",
       "      <th>206</th>\n",
       "      <th>214</th>\n",
       "      <th>205</th>\n",
       "      <th>...</th>\n",
       "      <th>197</th>\n",
       "      <th>196</th>\n",
       "      <th>223</th>\n",
       "      <th>224</th>\n",
       "      <th>226</th>\n",
       "      <th>195</th>\n",
       "      <th>194</th>\n",
       "      <th>193</th>\n",
       "      <th>227</th>\n",
       "      <th>229</th>\n",
       "    </tr>\n",
       "  </thead>\n",
       "  <tbody>\n",
       "    <tr>\n",
       "      <th>lidar</th>\n",
       "      <td>4409.000000</td>\n",
       "      <td>4355.000000</td>\n",
       "      <td>4261.000000</td>\n",
       "      <td>4228.000000</td>\n",
       "      <td>4201.000000</td>\n",
       "      <td>3920.000000</td>\n",
       "      <td>3897.000000</td>\n",
       "      <td>3674.000000</td>\n",
       "      <td>3572.000000</td>\n",
       "      <td>3225.000000</td>\n",
       "      <td>...</td>\n",
       "      <td>84.000000</td>\n",
       "      <td>59.000</td>\n",
       "      <td>55.000000</td>\n",
       "      <td>32.000000</td>\n",
       "      <td>15.000000</td>\n",
       "      <td>13.00000</td>\n",
       "      <td>10.00000</td>\n",
       "      <td>4.000000</td>\n",
       "      <td>3.000000</td>\n",
       "      <td>1.000000</td>\n",
       "    </tr>\n",
       "    <tr>\n",
       "      <th>probs</th>\n",
       "      <td>0.074744</td>\n",
       "      <td>0.073829</td>\n",
       "      <td>0.072235</td>\n",
       "      <td>0.071676</td>\n",
       "      <td>0.071218</td>\n",
       "      <td>0.066454</td>\n",
       "      <td>0.066064</td>\n",
       "      <td>0.062284</td>\n",
       "      <td>0.060555</td>\n",
       "      <td>0.054672</td>\n",
       "      <td>...</td>\n",
       "      <td>0.001424</td>\n",
       "      <td>0.001</td>\n",
       "      <td>0.000932</td>\n",
       "      <td>0.000542</td>\n",
       "      <td>0.000254</td>\n",
       "      <td>0.00022</td>\n",
       "      <td>0.00017</td>\n",
       "      <td>0.000068</td>\n",
       "      <td>0.000051</td>\n",
       "      <td>0.000017</td>\n",
       "    </tr>\n",
       "  </tbody>\n",
       "</table>\n",
       "<p>2 rows × 35 columns</p>\n",
       "</div>"
      ],
      "text/plain": [
       "               211          210          208          209          212  \\\n",
       "lidar  4409.000000  4355.000000  4261.000000  4228.000000  4201.000000   \n",
       "probs     0.074744     0.073829     0.072235     0.071676     0.071218   \n",
       "\n",
       "               207          213          206          214          205  ...  \\\n",
       "lidar  3920.000000  3897.000000  3674.000000  3572.000000  3225.000000  ...   \n",
       "probs     0.066454     0.066064     0.062284     0.060555     0.054672  ...   \n",
       "\n",
       "             197     196        223        224        226       195       194  \\\n",
       "lidar  84.000000  59.000  55.000000  32.000000  15.000000  13.00000  10.00000   \n",
       "probs   0.001424   0.001   0.000932   0.000542   0.000254   0.00022   0.00017   \n",
       "\n",
       "            193       227       229  \n",
       "lidar  4.000000  3.000000  1.000000  \n",
       "probs  0.000068  0.000051  0.000017  \n",
       "\n",
       "[2 rows x 35 columns]"
      ]
     },
     "execution_count": 18,
     "metadata": {},
     "output_type": "execute_result"
    }
   ],
   "source": [
    "freqs[\"probs\"] = freqs[\"lidar\"] / len(data[\"lidar\"])\n",
    "freqs.transpose()"
   ]
  },
  {
   "cell_type": "code",
   "execution_count": 19,
   "metadata": {},
   "outputs": [
    {
     "data": {
      "text/plain": [
       "1.0"
      ]
     },
     "execution_count": 19,
     "metadata": {},
     "output_type": "execute_result"
    }
   ],
   "source": [
    "sum(freqs[\"probs\"])"
   ]
  },
  {
   "cell_type": "code",
   "execution_count": 22,
   "metadata": {},
   "outputs": [
    {
     "data": {
      "image/png": "[encoded data removed]",
      "text/plain": [
       "<Figure size 640x480 with 1 Axes>"
      ]
     },
     "metadata": {},
     "output_type": "display_data"
    }
   ],
   "source": [
    "freqs[\"probs\"].sort_index().plot.bar()\n",
    "plt.show()"
   ]
  },
  {
   "cell_type": "markdown",
   "metadata": {},
   "source": [
    "### 2.2.5 確率分布を用いたシミュレーション\n"
   ]
  },
  {
   "cell_type": "code",
   "execution_count": 26,
   "metadata": {},
   "outputs": [
    {
     "data": {
      "text/plain": [
       "210"
      ]
     },
     "execution_count": 26,
     "metadata": {},
     "output_type": "execute_result"
    }
   ],
   "source": [
    "def drawing():\n",
    "    return freqs.sample(n=1, weights=\"probs\").index[0]\n",
    "\n",
    "\n",
    "drawing()"
   ]
  },
  {
   "cell_type": "code",
   "execution_count": 32,
   "metadata": {},
   "outputs": [
    {
     "data": {
      "image/png": "[encoded data removed]",
      "text/plain": [
       "<Figure size 640x480 with 1 Axes>"
      ]
     },
     "metadata": {},
     "output_type": "display_data"
    }
   ],
   "source": [
    "samples = [drawing() for i in range(len(data))]\n",
    "simulated = pd.DataFrame(samples, columns=[\"lidar\"])\n",
    "p = simulated[\"lidar\"]\n",
    "p.hist(bins=max(p) - min(p), color=\"orange\", align=\"left\")\n",
    "plt.show()"
   ]
  }
 ],
 "metadata": {
  "kernelspec": {
   "display_name": "Python 3.9.13 ('venv': venv)",
   "language": "python",
   "name": "python3"
  },
  "language_info": {
   "codemirror_mode": {
    "name": "ipython",
    "version": 3
   },
   "file_extension": ".py",
   "mimetype": "text/x-python",
   "name": "python",
   "nbconvert_exporter": "python",
   "pygments_lexer": "ipython3",
   "version": "3.9.13"
  },
  "orig_nbformat": 4,
  "vscode": {
   "interpreter": {
    "hash": "39e0c30164e3d974bb8c6e2752af4efaf357ca62a7bc276dc6be809df01c6f0a"
   }
  }
 },
 "nbformat": 4,
 "nbformat_minor": 2
}
