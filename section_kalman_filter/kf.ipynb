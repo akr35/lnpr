{
 "cells": [
  {
   "cell_type": "code",
   "execution_count": null,
   "metadata": {},
   "outputs": [],
   "source": [
    "%matplotlib ipympl\n",
    "\n",
    "import sys\n",
    "\n",
    "sys.path.append(\"../scripts\")\n",
    "from mcl import *\n",
    "from scipy.stats import multivariate_normal\n",
    "from matplotlib.patches import Ellipse\n"
   ]
  },
  {
   "cell_type": "code",
   "execution_count": null,
   "metadata": {},
   "outputs": [],
   "source": [
    "def sigma_ellipse(p, cov, n):\n",
    "    eig_vals, eig_vec = np.linalg.eig(cov)\n",
    "    ang = math.atan2(eig_vec[:, 0][1], eig_vec[:, 0][0]) / math.pi * 180\n",
    "    return Ellipse(\n",
    "        p,\n",
    "        width=2 * n * math.sqrt(eig_vals[0]),\n",
    "        height=2 * n * math.sqrt(eig_vals[1]),\n",
    "        angle=ang,\n",
    "        fill=False,\n",
    "        color=\"blue\",\n",
    "        alpha=0.5,\n",
    "    )"
   ]
  },
  {
   "cell_type": "code",
   "execution_count": null,
   "metadata": {},
   "outputs": [],
   "source": [
    "class KalmanFilter:\n",
    "    def __init__(\n",
    "        self,\n",
    "        envmap,\n",
    "        init_pose,\n",
    "        motion_noise_stds={\"nn\": 0.19, \"no\": 0.001, \"on\": 0.13, \"oo\": 0.2},\n",
    "    ) -> None:\n",
    "        self.belief = multivariate_normal(\n",
    "            mean=np.array([0.0, 0.0, math.pi / 4]), cov=np.diag([0.1, 0.2, 0.01])\n",
    "        )\n",
    "        self.pose = self.belief.mean\n",
    "\n",
    "    def motion_update(self, nu, omega, time):\n",
    "        pass\n",
    "\n",
    "    def observation_update(self, observation):\n",
    "        pass\n",
    "\n",
    "    def draw(self, ax, elems):\n",
    "        e = sigma_ellipse(self.belief.mean[0:2], self.belief.cov[0:2, 0:2], 3)\n",
    "        elems.append(ax.add_patch(e))\n",
    "\n",
    "        x, y, c = self.belief.mean\n",
    "        sigma3 = math.sqrt(self.belief.cov[2, 2]) * 3\n",
    "        xs = [x + math.cos(c - sigma3), x, x + math.cos(c + sigma3)]\n",
    "        ys = [y + math.sin(c - sigma3), y, y + math.sin(c + sigma3)]\n",
    "        elems += ax.plot(xs, ys, color=\"blue\", alpha=0.5)"
   ]
  },
  {
   "cell_type": "code",
   "execution_count": null,
   "metadata": {},
   "outputs": [],
   "source": [
    "def trial():\n",
    "    time_interval = 0.1\n",
    "    world = World(30, time_interval, debug=False)\n",
    "\n",
    "    m = Map()\n",
    "    for landmark in [(-4, 2), (2, -3), (3, 3)]:\n",
    "        m.append_landmark(Landmark(*landmark))\n",
    "    world.append(m)\n",
    "\n",
    "    initial_pose = np.array([0, 0, 0]).T\n",
    "    kf = KalmanFilter(m, initial_pose)\n",
    "    circling = EstimationAgent(time_interval, 0.2, 10.0 / 180 * math.pi, kf)\n",
    "    r = Robot(initial_pose, sensor=Camera(m), agent=circling, color=\"red\")\n",
    "    world.append(r)\n",
    "\n",
    "    world.draw()\n",
    "\n",
    "\n",
    "trial()"
   ]
  }
 ],
 "metadata": {
  "kernelspec": {
   "display_name": "Python 3.9.13 ('.venv': venv)",
   "language": "python",
   "name": "python3"
  },
  "language_info": {
   "codemirror_mode": {
    "name": "ipython",
    "version": 3
   },
   "file_extension": ".py",
   "mimetype": "text/x-python",
   "name": "python",
   "nbconvert_exporter": "python",
   "pygments_lexer": "ipython3",
   "version": "3.9.13"
  },
  "orig_nbformat": 4,
  "vscode": {
   "interpreter": {
    "hash": "49704081ada8736d9e4a977818965392e53b05e5c57d2e4502abf5c5b03ebc06"
   }
  }
 },
 "nbformat": 4,
 "nbformat_minor": 2
}
