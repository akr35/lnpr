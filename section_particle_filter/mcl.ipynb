{
 "cells": [
  {
   "cell_type": "code",
   "execution_count": null,
   "metadata": {},
   "outputs": [],
   "source": [
    "%matplotlib ipympl\n",
    "\n",
    "import sys\n",
    "\n",
    "sys.path.append(\"../scripts\")\n",
    "from robot import *\n",
    "\n",
    "from scipy.stats import multivariate_normal"
   ]
  },
  {
   "cell_type": "code",
   "execution_count": null,
   "metadata": {},
   "outputs": [],
   "source": [
    "class EstimationAgent(Agent):\n",
    "    def __init__(self, time_interval, nu, omega, estimator) -> None:\n",
    "        super().__init__(nu, omega)\n",
    "        self.estimator = estimator\n",
    "        self.time_interval = time_interval\n",
    "\n",
    "        self.prev_nu = 0.0\n",
    "        self.prev_omega = 0.0\n",
    "\n",
    "    def draw(self, ax, elems):\n",
    "        self.estimator.draw(ax, elems)\n",
    "\n",
    "    def decision(self, observation=None):\n",
    "        self.estimator.motion_update(self.prev_nu, self.prev_omega, self.time_interval)\n",
    "        self.prev_nu, self.prev_omega = self.nu, self.omega\n",
    "        return self.nu, self.omega"
   ]
  },
  {
   "cell_type": "code",
   "execution_count": null,
   "metadata": {},
   "outputs": [],
   "source": [
    "class Particle:\n",
    "    def __init__(self, init_pose) -> None:\n",
    "        self.pose = init_pose\n",
    "\n",
    "    def motion_update(self, nu, omega, time, noise_rate_pdf):\n",
    "        ns = noise_rate_pdf.rvs()\n",
    "        noised_nu = (\n",
    "            nu\n",
    "            + ns[0] * math.sqrt(abs(nu) / time)\n",
    "            + ns[1] * math.sqrt(abs(omega) / time)\n",
    "        )\n",
    "        noised_omega = (\n",
    "            omega\n",
    "            + ns[2] * math.sqrt(abs(nu) / time)\n",
    "            + ns[3] * math.sqrt(abs(omega) / time)\n",
    "        )\n",
    "        self.pose = IdealRobot.state_transition(\n",
    "            noised_nu, noised_omega, time, self.pose\n",
    "        )"
   ]
  },
  {
   "cell_type": "code",
   "execution_count": null,
   "metadata": {},
   "outputs": [],
   "source": [
    "class Mcl:\n",
    "    def __init__(self, init_pose, num, motion_noise_stds) -> None:\n",
    "        self.particles = [Particle(init_pose) for i in range(num)]\n",
    "\n",
    "        v = motion_noise_stds\n",
    "        c = np.diag([v[\"nn\"] ** 2, v[\"no\"] ** 2, v[\"on\"] ** 2, v[\"oo\"] ** 2])\n",
    "        self.motion_noise_rate_pdf = multivariate_normal(cov=c)\n",
    "\n",
    "    def motion_update(self, nu, omega, time):\n",
    "        # print(self.motion_noise_rate_pdf.cov)\n",
    "        for p in self.particles:\n",
    "            p.motion_update(nu, omega, time, self.motion_noise_rate_pdf)\n",
    "\n",
    "    def draw(self, ax, elems):\n",
    "        xs = [p.pose[0] for p in self.particles]\n",
    "        ys = [p.pose[1] for p in self.particles]\n",
    "        vxs = [math.cos(p.pose[2]) for p in self.particles]\n",
    "        vys = [math.sin(p.pose[2]) for p in self.particles]\n",
    "        elems.append(ax.quiver(xs, ys, vxs, vys, color=\"blue\", alpha=0.5))"
   ]
  },
  {
   "cell_type": "code",
   "execution_count": null,
   "metadata": {},
   "outputs": [],
   "source": [
    "world = World(30, 0.1)\n",
    "\n",
    "m = Map()\n",
    "for ln in [(-4, 2), (2, -3), (3, 3)]:\n",
    "    m.append_landmark(Landmark(*ln))\n",
    "world.append(m)\n",
    "\n",
    "initial_pose = np.array([2, 2, math.pi / 6]).T\n",
    "estimator = Mcl(initial_pose, 100)\n",
    "circling = EstimationAgent(0.2, 10.0 / 180 * math.pi, estimator)\n",
    "r = Robot(initial_pose, sensor=Camera(m), agent=circling)\n",
    "world.append(r)\n",
    "\n",
    "world.draw()"
   ]
  },
  {
   "cell_type": "code",
   "execution_count": null,
   "metadata": {},
   "outputs": [],
   "source": [
    "initial_pose = np.array([0, 0, 0]).T\n",
    "estimator = Mcl(\n",
    "    initial_pose, 100, motion_noise_stds={\"nn\": 0.01, \"no\": 0.02, \"on\": 0.03, \"oo\": 0.04}\n",
    ")\n",
    "a = EstimationAgent(0.1,0.2,10.0/180*math.pi, estimator)\n",
    "estimator.motion_update(0.2, 10.0/180*math.pi, 0.1)\n",
    "for p in estimator.particles:\n",
    "    print(p.pose)"
   ]
  },
  {
   "cell_type": "code",
   "execution_count": null,
   "metadata": {},
   "outputs": [],
   "source": [
    "def trial(motion_noise_stds):\n",
    "    time_interval = 0.1\n",
    "    world = World(30, time_interval)\n",
    "\n",
    "    initial_pose = np.array([0, 0, 0]).T\n",
    "    estimator = Mcl(initial_pose, 100, motion_noise_stds)\n",
    "    circling = EstimationAgent(time_interval, 0.2, 10.0 / 180 * math.pi, estimator)\n",
    "    r = Robot(initial_pose, sensor=None, agent=circling, color=\"red\")\n",
    "    world.append(r)\n",
    "\n",
    "    world.draw()\n",
    "\n",
    "\n",
    "trial({\"nn\": 0.01, \"no\": 0.02, \"on\": 0.03, \"oo\": 0.04})"
   ]
  }
 ],
 "metadata": {
  "kernelspec": {
   "display_name": "Python 3.9.13 ('.venv': venv)",
   "language": "python",
   "name": "python3"
  },
  "language_info": {
   "codemirror_mode": {
    "name": "ipython",
    "version": 3
   },
   "file_extension": ".py",
   "mimetype": "text/x-python",
   "name": "python",
   "nbconvert_exporter": "python",
   "pygments_lexer": "ipython3",
   "version": "3.9.13"
  },
  "orig_nbformat": 4,
  "vscode": {
   "interpreter": {
    "hash": "49704081ada8736d9e4a977818965392e53b05e5c57d2e4502abf5c5b03ebc06"
   }
  }
 },
 "nbformat": 4,
 "nbformat_minor": 2
}
