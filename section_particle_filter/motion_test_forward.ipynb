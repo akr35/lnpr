{
 "cells": [
  {
   "cell_type": "code",
   "execution_count": null,
   "metadata": {},
   "outputs": [],
   "source": [
    "%matplotlib ipympl\n",
    "\n",
    "import sys\n",
    "sys.path.append(\"../scripts\")\n",
    "from robot import *\n"
   ]
  },
  {
   "cell_type": "code",
   "execution_count": null,
   "metadata": {},
   "outputs": [],
   "source": [
    "import copy\n",
    "\n",
    "world = World(40.0, 0.1)\n",
    "\n",
    "initial_pose = np.array([0, 0, 0]).T\n",
    "robots = []\n",
    "r = Robot(initial_pose, sensor=None, agent=Agent(0.1, 0.0))\n",
    "\n",
    "for i in range(25):\n",
    "    copy_r = copy.copy(r)\n",
    "    copy_r.distance_until_noise = copy_r.noise_pdf.rvs()\n",
    "    world.append(copy_r)\n",
    "    robots.append(copy_r)\n",
    "\n",
    "world.draw()"
   ]
  },
  {
   "cell_type": "code",
   "execution_count": null,
   "metadata": {},
   "outputs": [],
   "source": [
    "world = World(40.0, 0.1)\n",
    "\n",
    "initial_pose = np.array([0, 0, 0]).T\n",
    "robots = []\n",
    "\n",
    "for i in range(25):\n",
    "    r = Robot(initial_pose, sensor=None, agent=Agent(0.1, 0.0))\n",
    "    world.append(r)\n",
    "    robots.append(r)\n",
    "\n",
    "world.draw()"
   ]
  },
  {
   "cell_type": "code",
   "execution_count": null,
   "metadata": {},
   "outputs": [],
   "source": [
    "import pandas as pd\n",
    "\n",
    "poses = pd.DataFrame(\n",
    "    [[math.sqrt(r.pose[0] ** 2 + r.pose[1] ** 2), r.pose[2]] for r in robots],\n",
    "    columns=[\"r\", \"theta\"],\n",
    ")\n",
    "poses.transpose()"
   ]
  },
  {
   "cell_type": "code",
   "execution_count": null,
   "metadata": {},
   "outputs": [],
   "source": [
    "print(poses['theta'].var())\n",
    "print(poses['r'].mean())\n",
    "math.sqrt(poses['theta'].var()/poses['r'].mean())"
   ]
  },
  {
   "cell_type": "code",
   "execution_count": null,
   "metadata": {},
   "outputs": [],
   "source": [
    "print(poses['r'].var())\n",
    "print(poses['r'].mean())\n",
    "math.sqrt(poses['r'].var()/poses['r'].mean())"
   ]
  }
 ],
 "metadata": {
  "kernelspec": {
   "display_name": "Python 3.9.13 ('.venv': venv)",
   "language": "python",
   "name": "python3"
  },
  "language_info": {
   "codemirror_mode": {
    "name": "ipython",
    "version": 3
   },
   "file_extension": ".py",
   "mimetype": "text/x-python",
   "name": "python",
   "nbconvert_exporter": "python",
   "pygments_lexer": "ipython3",
   "version": "3.9.13"
  },
  "orig_nbformat": 4,
  "vscode": {
   "interpreter": {
    "hash": "49704081ada8736d9e4a977818965392e53b05e5c57d2e4502abf5c5b03ebc06"
   }
  }
 },
 "nbformat": 4,
 "nbformat_minor": 2
}
