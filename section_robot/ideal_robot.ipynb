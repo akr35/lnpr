{
 "cells": [
  {
   "cell_type": "markdown",
   "metadata": {},
   "source": [
    "## 3.2 ロボットの動き\n"
   ]
  },
  {
   "cell_type": "markdown",
   "metadata": {},
   "source": [
    "### 3.2.1 世界座標系と描画\n"
   ]
  },
  {
   "cell_type": "code",
   "execution_count": null,
   "metadata": {},
   "outputs": [],
   "source": [
    "%matplotlib ipympl\n",
    "\n",
    "import math\n",
    "import numpy as np\n",
    "import matplotlib.patches as patches\n",
    "import matplotlib.pyplot as plt\n",
    "import matplotlib.animation as anm\n"
   ]
  },
  {
   "cell_type": "code",
   "execution_count": null,
   "metadata": {},
   "outputs": [],
   "source": [
    "class World:\n",
    "    def __init__(self, time_span, time_interval, debug=False):\n",
    "        self.objects = []\n",
    "        self.debug = debug\n",
    "        self.time_span = time_span\n",
    "        self.time_interval = time_interval\n",
    "\n",
    "    def append(self, obj):\n",
    "        self.objects.append(obj)\n",
    "\n",
    "    def draw(self):\n",
    "        fig = plt.figure(figsize=(4, 4))\n",
    "        ax = fig.add_subplot(111)\n",
    "        ax.set_aspect(\"equal\")\n",
    "        ax.set_xlim(-5, 5)\n",
    "        ax.set_ylim(-5, 5)\n",
    "        ax.set_xlabel(\"X\", fontsize=10)\n",
    "        ax.set_ylabel(\"Y\", fontsize=10)\n",
    "\n",
    "        elems = []\n",
    "\n",
    "        if self.debug:\n",
    "            for i in range(10):\n",
    "                self.one_step(i, elems, ax)\n",
    "        else:\n",
    "            self.ani = anm.FuncAnimation(\n",
    "                fig,\n",
    "                self.one_step,\n",
    "                fargs=(elems, ax),\n",
    "                frames=int(self.time_span / self.time_interval) + 1,\n",
    "                interval=int(self.time_interval * 1000),\n",
    "                repeat=False,\n",
    "            )\n",
    "            plt.show()\n",
    "\n",
    "    def one_step(self, i, elems, ax):\n",
    "        while elems:\n",
    "            elems.pop().remove()\n",
    "        time_str = \"t = %.2f[s]\" % (self.time_interval * i)\n",
    "        elems.append(ax.text(-4.4, 4.5, time_str, fontsize=10))\n",
    "        for obj in self.objects:\n",
    "            obj.draw(ax, elems)\n",
    "            if hasattr(obj, \"one_step\"):\n",
    "                obj.one_step(self.time_interval)"
   ]
  },
  {
   "cell_type": "code",
   "execution_count": null,
   "metadata": {},
   "outputs": [],
   "source": [
    "class IdealRobot:\n",
    "    def __init__(self, pose, agent=None, sensor=None, color=\"black\") -> None:\n",
    "        self.pose = pose\n",
    "        self.r = 0.2\n",
    "        self.color = color\n",
    "        self.agent = agent\n",
    "        self.poses = [pose]\n",
    "        self.sensor = sensor\n",
    "\n",
    "    def draw(self, ax, elems):\n",
    "        x, y, theta = self.pose\n",
    "\n",
    "        xn = x + self.r * math.cos(theta)\n",
    "        yn = y + self.r * math.sin(theta)\n",
    "        elems += ax.plot([x, xn], [y, yn], color=self.color)\n",
    "\n",
    "        c = patches.Circle(xy=(x, y), radius=self.r, fill=False, color=self.color)\n",
    "        elems.append(ax.add_patch(c))\n",
    "\n",
    "        self.poses.append(self.pose)\n",
    "        elems += ax.plot(\n",
    "            [e[0] for e in self.poses],\n",
    "            [e[1] for e in self.poses],\n",
    "            linewidth=0.5,\n",
    "            color=\"black\",\n",
    "        )\n",
    "        if self.sensor and len(self.poses) > 1:\n",
    "            self.sensor.draw(ax, elems, self.poses[-2])\n",
    "        if self.agent and hasattr(self.agent, \"draw\"):\n",
    "            self.agent.draw(ax, elems)\n",
    "\n",
    "    def one_step(self, time_interval):\n",
    "        if not self.agent:\n",
    "            return\n",
    "        obs = self.sensor.data(self.pose) if self.sensor else None\n",
    "        nu, omega = self.agent.decision(obs)\n",
    "        self.pose = self.state_transition(nu, omega, time_interval, self.pose)\n",
    "\n",
    "    @classmethod\n",
    "    def state_transition(cls, nu, omega, time, pose):\n",
    "        t0 = pose[2]\n",
    "        if math.fabs(omega) < 1e-10:\n",
    "            return pose + np.array([nu * math.cos(t0), nu * math.sin(t0), omega]) * time\n",
    "        else:\n",
    "            return pose + np.array(\n",
    "                [\n",
    "                    nu / omega * (math.sin(t0 + omega * time) - math.sin(t0)),\n",
    "                    nu / omega * (-math.cos(t0 + omega * time) + math.cos(t0)),\n",
    "                    omega * time,\n",
    "                ]\n",
    "            )"
   ]
  },
  {
   "cell_type": "code",
   "execution_count": null,
   "metadata": {},
   "outputs": [],
   "source": [
    "class Agent:\n",
    "    def __init__(self, nu, omega) -> None:\n",
    "        self.nu = nu\n",
    "        self.omega = omega\n",
    "\n",
    "    def decision(self, observation=None):\n",
    "        return self.nu, self.omega"
   ]
  },
  {
   "cell_type": "code",
   "execution_count": null,
   "metadata": {},
   "outputs": [],
   "source": [
    "class Landmark:\n",
    "    def __init__(self, x, y) -> None:\n",
    "        self.pos = np.array([x, y]).T\n",
    "        self.id = None\n",
    "\n",
    "    def draw(self, ax, elems: list):\n",
    "        c = ax.scatter(\n",
    "            self.pos[0],\n",
    "            self.pos[1],\n",
    "            s=100,\n",
    "            marker=\"*\",\n",
    "            label=\"landmarks\",\n",
    "            color=\"orange\",\n",
    "        )\n",
    "        elems.append(c)\n",
    "        elems.append(\n",
    "            ax.text(self.pos[0], self.pos[1], \"id:\" + str(self.id), fontsize=10)\n",
    "        )"
   ]
  },
  {
   "cell_type": "code",
   "execution_count": null,
   "metadata": {},
   "outputs": [],
   "source": [
    "class Map:\n",
    "    def __init__(self) -> None:\n",
    "        self.landmarks = []\n",
    "\n",
    "    def append_landmark(self, landmark: Landmark) -> None:\n",
    "        landmark.id = len(self.landmarks)\n",
    "        self.landmarks.append(landmark)\n",
    "\n",
    "    def draw(self, ax, elems: list) -> None:\n",
    "        for lm in self.landmarks:\n",
    "            lm.draw(ax, elems)"
   ]
  },
  {
   "cell_type": "code",
   "execution_count": null,
   "metadata": {},
   "outputs": [],
   "source": [
    "class IdealCamera:\n",
    "    def __init__(\n",
    "        self,\n",
    "        env_map,\n",
    "        distance_range=(0.5, 6.0),\n",
    "        direction_range=(-math.pi / 3, math.pi / 3),\n",
    "    ) -> None:\n",
    "        self.map: Map = env_map\n",
    "        self.last_data: list = []\n",
    "\n",
    "        self.distance_range = distance_range\n",
    "        self.direction_range = direction_range\n",
    "\n",
    "    def visible(self, polar_pos):\n",
    "        if polar_pos is None:\n",
    "            return False\n",
    "\n",
    "        return (\n",
    "            self.distance_range[0] <= polar_pos[0] <= self.distance_range[1]\n",
    "            and self.direction_range[0] <= polar_pos[1] <= self.direction_range[1]\n",
    "        )\n",
    "\n",
    "    def data(self, cam_pose):\n",
    "        observed = []\n",
    "        for lm in self.map.landmarks:\n",
    "            p = self.observation_function(cam_pose, lm.pos)\n",
    "            if self.visible(p):\n",
    "                observed.append((p, lm.id))\n",
    "        self.last_data = observed\n",
    "        return observed\n",
    "\n",
    "    def draw(self, ax, elems, cam_pose):\n",
    "        for lm in self.last_data:\n",
    "            x, y, theta = cam_pose\n",
    "            distance, direction = lm[0][0], lm[0][1]\n",
    "            lx = x + distance * math.cos(direction + theta)\n",
    "            ly = y + distance * math.sin(direction + theta)\n",
    "            elems += ax.plot([x, lx], [y, ly], color=\"pink\")\n",
    "\n",
    "    @classmethod\n",
    "    def observation_function(cls, cam_pose, obj_pos):\n",
    "        diff = obj_pos - cam_pose[0:2]\n",
    "        phi = math.atan2(diff[1], diff[0]) - cam_pose[2]\n",
    "        while phi >= np.pi:\n",
    "            phi -= 2 * np.pi\n",
    "        while phi < -np.pi:\n",
    "            phi += 2 * np.pi\n",
    "        return np.array([np.hypot(*diff), phi]).T"
   ]
  },
  {
   "cell_type": "code",
   "execution_count": null,
   "metadata": {},
   "outputs": [],
   "source": [
    "if __name__ == \"__main__\":\n",
    "    world = World(36, 0.1)\n",
    "\n",
    "    m = Map()\n",
    "    m.append_landmark(Landmark(2, -2))\n",
    "    m.append_landmark(Landmark(-1, -3))\n",
    "    m.append_landmark(Landmark(3, 3))\n",
    "    world.append(m)\n",
    "\n",
    "    straight = Agent(0.2, 0.0)\n",
    "    circling = Agent(0.2, 10.0 / 180 * math.pi)\n",
    "\n",
    "    robot1 = IdealRobot(\n",
    "        np.array([2, 3, math.pi / 6]).T, agent=straight, sensor=IdealCamera(m)\n",
    "    )\n",
    "    robot2 = IdealRobot(\n",
    "        np.array([-2, -1, math.pi / 5 * 6]).T,\n",
    "        agent=circling,\n",
    "        sensor=IdealCamera(m),\n",
    "        color=\"red\",\n",
    "    )\n",
    "    # robot3 = IdealRobot(np.array([0, 0, 0]).T, color=\"blue\")\n",
    "\n",
    "    world.append(robot1)\n",
    "    world.append(robot2)\n",
    "    # world.append(robot3)\n",
    "\n",
    "    world.draw()"
   ]
  },
  {
   "cell_type": "code",
   "execution_count": null,
   "metadata": {},
   "outputs": [],
   "source": [
    "## 原点から、0.1[m/s] で1[s]直進\n",
    "IdealRobot.state_transition(0.1, 0.0, 1.0, np.array([0, 0, 0]).T)"
   ]
  },
  {
   "cell_type": "code",
   "execution_count": null,
   "metadata": {},
   "outputs": [],
   "source": [
    "## 原点から、0.1[m/s],  10[deg/s]で9[s]直進\n",
    "IdealRobot.state_transition(0.1, 10.0 / 180 * math.pi, 9.0, np.array([0, 0, 0]).T)"
   ]
  },
  {
   "cell_type": "code",
   "execution_count": null,
   "metadata": {},
   "outputs": [],
   "source": [
    "## 原点から、0.1[m/s],  10[deg/s]で18[s]直進\n",
    "IdealRobot.state_transition(0.1, 10.0 / 180 * math.pi, 18.0, np.array([0, 0, 0]).T)"
   ]
  },
  {
   "cell_type": "code",
   "execution_count": null,
   "metadata": {},
   "outputs": [],
   "source": [
    "cam = IdealCamera(m)\n",
    "p = cam.data(robot2.pose)\n",
    "print(p)"
   ]
  }
 ],
 "metadata": {
  "kernelspec": {
   "display_name": "Python 3.9.13 ('venv': venv)",
   "language": "python",
   "name": "python3"
  },
  "language_info": {
   "codemirror_mode": {
    "name": "ipython",
    "version": 3
   },
   "file_extension": ".py",
   "mimetype": "text/x-python",
   "name": "python",
   "nbconvert_exporter": "python",
   "pygments_lexer": "ipython3",
   "version": "3.9.13"
  },
  "orig_nbformat": 4,
  "vscode": {
   "interpreter": {
    "hash": "39e0c30164e3d974bb8c6e2752af4efaf357ca62a7bc276dc6be809df01c6f0a"
   }
  }
 },
 "nbformat": 4,
 "nbformat_minor": 2
}
