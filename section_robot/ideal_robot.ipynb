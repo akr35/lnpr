{
 "cells": [
  {
   "cell_type": "markdown",
   "metadata": {},
   "source": [
    "## 3.2 ロボットの動き\n"
   ]
  },
  {
   "cell_type": "markdown",
   "metadata": {},
   "source": [
    "### 3.2.1 世界座標系と描画\n"
   ]
  },
  {
   "cell_type": "code",
   "execution_count": null,
   "metadata": {},
   "outputs": [],
   "source": [
    "%matplotlib ipympl\n",
    "\n",
    "import math\n",
    "import numpy as np\n",
    "import matplotlib.patches as patches\n",
    "import matplotlib.pyplot as plt\n",
    "import matplotlib.animation as anm\n"
   ]
  },
  {
   "cell_type": "code",
   "execution_count": null,
   "metadata": {},
   "outputs": [],
   "source": [
    "class World:\n",
    "    def __init__(self, time_span, time_interval, debug=False):\n",
    "        self.objects = []\n",
    "        self.debug = debug\n",
    "        self.time_span = time_span\n",
    "        self.time_interval = time_interval\n",
    "\n",
    "    def append(self, obj):\n",
    "        self.objects.append(obj)\n",
    "\n",
    "    def draw(self):\n",
    "        fig = plt.figure(figsize=(4, 4))\n",
    "        ax = fig.add_subplot(111)\n",
    "        ax.set_aspect(\"equal\")\n",
    "        ax.set_xlim(-5, 5)\n",
    "        ax.set_ylim(-5, 5)\n",
    "        ax.set_xlabel(\"X\", fontsize=10)\n",
    "        ax.set_ylabel(\"Y\", fontsize=10)\n",
    "\n",
    "        elems = []\n",
    "\n",
    "        if self.debug:\n",
    "            for i in range(10):\n",
    "                self.one_step(i, elems, ax)\n",
    "        else:\n",
    "            self.ani = anm.FuncAnimation(\n",
    "                fig,\n",
    "                self.one_step,\n",
    "                fargs=(elems, ax),\n",
    "                frames=int(self.time_span / self.time_interval) + 1,\n",
    "                interval=int(self.time_interval * 1000),\n",
    "                repeat=False,\n",
    "            )\n",
    "            plt.show()\n",
    "\n",
    "    def one_step(self, i, elems, ax):\n",
    "        while elems:\n",
    "            elems.pop().remove()\n",
    "        time_str = \"t = %.2f[s]\" % (self.time_interval * i)\n",
    "        elems.append(ax.text(-4.4, 4.5, time_str, fontsize=10))\n",
    "        for obj in self.objects:\n",
    "            obj.draw(ax, elems)\n",
    "            if hasattr(obj, \"one_step\"):\n",
    "                obj.one_step(self.time_interval)"
   ]
  },
  {
   "cell_type": "code",
   "execution_count": null,
   "metadata": {},
   "outputs": [],
   "source": [
    "class IdealRobot:\n",
    "    def __init__(self, pose, agent=None, color=\"black\") -> None:\n",
    "        self.pose = pose\n",
    "        self.r = 0.2\n",
    "        self.color = color\n",
    "        self.agent = agent\n",
    "        self.poses = [pose]\n",
    "\n",
    "    def draw(self, ax, elems):\n",
    "        x, y, theta = self.pose\n",
    "\n",
    "        xn = x + self.r * math.cos(theta)\n",
    "        yn = y + self.r * math.sin(theta)\n",
    "        elems += ax.plot([x, xn], [y, yn], color=self.color)\n",
    "\n",
    "        c = patches.Circle(xy=(x, y), radius=self.r, fill=False, color=self.color)\n",
    "        elems.append(ax.add_patch(c))\n",
    "\n",
    "        self.poses.append(self.pose)\n",
    "        elems += ax.plot(\n",
    "            [e[0] for e in self.poses],\n",
    "            [e[1] for e in self.poses],\n",
    "            linewidth=0.5,\n",
    "            color=\"black\",\n",
    "        )\n",
    "\n",
    "    def one_step(self, time_interval):\n",
    "        if not self.agent:\n",
    "            return\n",
    "        nu, omega = self.agent.decision()\n",
    "        self.pose = self.state_transition(nu, omega, time_interval, self.pose)\n",
    "\n",
    "    @classmethod\n",
    "    def state_transition(cls, nu, omega, time, pose):\n",
    "        t0 = pose[2]\n",
    "        if math.fabs(omega) < 1e-10:\n",
    "            return pose + np.array([nu * math.cos(t0), nu * math.sin(t0), omega]) * time\n",
    "        else:\n",
    "            return pose + np.array(\n",
    "                [\n",
    "                    nu / omega * (math.sin(t0 + omega * time) - math.sin(t0)),\n",
    "                    nu / omega * (-math.cos(t0 + omega * time) + math.cos(t0)),\n",
    "                    omega * time,\n",
    "                ]\n",
    "            )"
   ]
  },
  {
   "cell_type": "code",
   "execution_count": null,
   "metadata": {},
   "outputs": [],
   "source": [
    "class Agent:\n",
    "    def __init__(self, nu, omega) -> None:\n",
    "        self.nu = nu\n",
    "        self.omega = omega\n",
    "\n",
    "    def decision(self, observation=None):\n",
    "        return self.nu, self.omega"
   ]
  },
  {
   "cell_type": "code",
   "execution_count": null,
   "metadata": {},
   "outputs": [],
   "source": [
    "class Landmark:\n",
    "    def __init__(self, x, y) -> None:\n",
    "        self.pos = np.array([x, y]).T\n",
    "        self.id = None\n",
    "\n",
    "    def draw(self, ax, elems: list):\n",
    "        c = ax.scatter(\n",
    "            self.pos[0],\n",
    "            self.pos[1],\n",
    "            s=100,\n",
    "            marker=\"*\",\n",
    "            label=\"landmarks\",\n",
    "            color=\"orange\",\n",
    "        )\n",
    "        elems.append(c)\n",
    "        elems.append(\n",
    "            ax.text(self.pos[0], self.pos[1], \"id:\" + str(self.id), fontsize=10)\n",
    "        )"
   ]
  },
  {
   "cell_type": "code",
   "execution_count": null,
   "metadata": {},
   "outputs": [],
   "source": [
    "class Map:\n",
    "    def __init__(self) -> None:\n",
    "        self.landmarks = []\n",
    "    \n",
    "    def append_landmark(self, landmark: Landmark) -> None:\n",
    "        landmark.id = len(self.landmarks)\n",
    "        self.landmarks.append(landmark)\n",
    "\n",
    "    def draw(self, ax, elems: list) -> None:\n",
    "        for lm in self.landmarks:\n",
    "            lm.draw(ax, elems)"
   ]
  },
  {
   "cell_type": "code",
   "execution_count": null,
   "metadata": {},
   "outputs": [],
   "source": [
    "world = World(36, 0.5)\n",
    "\n",
    "m = Map()\n",
    "m.append_landmark(Landmark(2, -2))\n",
    "m.append_landmark(Landmark(-1, -3))\n",
    "m.append_landmark(Landmark(3, 3))\n",
    "world.append(m)\n",
    "\n",
    "straight = Agent(0.2, 0.0)\n",
    "circling = Agent(0.2, 10.0 / 180 * math.pi)\n",
    "\n",
    "robot1 = IdealRobot(np.array([2, 3, math.pi / 6]).T, straight)\n",
    "robot2 = IdealRobot(np.array([-2, -1, math.pi / 5 * 6]).T, circling, \"red\")\n",
    "robot3 = IdealRobot(np.array([0, 0, 0]).T, color=\"blue\")\n",
    "\n",
    "world.append(robot1)\n",
    "world.append(robot2)\n",
    "world.append(robot3)\n",
    "\n",
    "world.draw()"
   ]
  },
  {
   "cell_type": "code",
   "execution_count": null,
   "metadata": {},
   "outputs": [],
   "source": [
    "## 原点から、0.1[m/s] で1[s]直進\n",
    "IdealRobot.state_transition(0.1, 0.0, 1.0, np.array([0, 0, 0]).T)"
   ]
  },
  {
   "cell_type": "code",
   "execution_count": null,
   "metadata": {},
   "outputs": [],
   "source": [
    "## 原点から、0.1[m/s],  10[deg/s]で9[s]直進\n",
    "IdealRobot.state_transition(0.1, 10.0 / 180 * math.pi, 9.0, np.array([0, 0, 0]).T)"
   ]
  },
  {
   "cell_type": "code",
   "execution_count": null,
   "metadata": {},
   "outputs": [],
   "source": [
    "## 原点から、0.1[m/s],  10[deg/s]で18[s]直進\n",
    "IdealRobot.state_transition(0.1, 10.0 / 180 * math.pi, 18.0, np.array([0, 0, 0]).T)"
   ]
  }
 ],
 "metadata": {
  "kernelspec": {
   "display_name": "Python 3.9.13 ('venv': venv)",
   "language": "python",
   "name": "python3"
  },
  "language_info": {
   "codemirror_mode": {
    "name": "ipython",
    "version": 3
   },
   "file_extension": ".py",
   "mimetype": "text/x-python",
   "name": "python",
   "nbconvert_exporter": "python",
   "pygments_lexer": "ipython3",
   "version": "3.9.13"
  },
  "orig_nbformat": 4,
  "vscode": {
   "interpreter": {
    "hash": "595257a564bee81736abd78877849d11f79c581fd1608e155bf0d57d2deabee4"
   }
  }
 },
 "nbformat": 4,
 "nbformat_minor": 2
}
